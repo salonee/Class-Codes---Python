{
  "nbformat": 4,
  "nbformat_minor": 0,
  "metadata": {
    "colab": {
      "provenance": [],
      "include_colab_link": true
    },
    "kernelspec": {
      "name": "python3",
      "display_name": "Python 3"
    },
    "language_info": {
      "name": "python"
    }
  },
  "cells": [
    {
      "cell_type": "markdown",
      "metadata": {
        "id": "view-in-github",
        "colab_type": "text"
      },
      "source": [
        "<a href=\"https://colab.research.google.com/github/salonee/Python/blob/main/5_Advanced_Looping.ipynb\" target=\"_parent\"><img src=\"https://colab.research.google.com/assets/colab-badge.svg\" alt=\"Open In Colab\"/></a>"
      ]
    },
    {
      "cell_type": "code",
      "source": [
        "# Advanced Looping Concept : Shortcuts to solve the simple questions\n",
        "# Map\n",
        "# Filter\n",
        "# Lambda\n",
        "# Ternary Operator\n",
        "# List Comprehension , Set Comprehension & Dictionary Comprehension\n",
        "\n",
        "\n"
      ],
      "metadata": {
        "id": "uWl8EWQHkxsl"
      },
      "execution_count": null,
      "outputs": []
    },
    {
      "cell_type": "code",
      "execution_count": null,
      "metadata": {
        "id": "iLahe0h5oFVo"
      },
      "outputs": [],
      "source": [
        "# Map Function\n",
        "# map()\n",
        "# The map() function in Python applies a given function to each item of an iterable (e.g. a list)\n",
        "# and returns a new iterable with the results. The syntax of the map() function is as follows:\n",
        "\n",
        "'''map(function, iterable)'''\n",
        "\n",
        "\n"
      ]
    },
    {
      "cell_type": "code",
      "source": [
        "# Iterable : List, string, tuple, set, dictionary\n"
      ],
      "metadata": {
        "id": "VPachIpLlUFh"
      },
      "execution_count": null,
      "outputs": []
    },
    {
      "cell_type": "code",
      "source": [
        "# # Practice 1\n",
        "#Add one to each element\n",
        "# add_1 is the function and with map, you don't put the brackets\n",
        "\n",
        "_list = [2,3,4,5,6]\n",
        "# [3,4,5,6,7]\n",
        "\n",
        "def add_1(n):\n",
        "  return n+1\n",
        "\n",
        "list(map(add_1,_list))\n",
        "# Iteration :\n",
        "# I1\n",
        "# i = 2\n",
        "# add_1(2) --> 3\n",
        "\n",
        "# I2\n",
        "# i = 3\n",
        "# add_1(3) --> 4\n",
        "\n",
        "# I3\n",
        "# i = 4\n",
        "# add_1(4) --> 5\n",
        "\n",
        "# I4\n",
        "# i = 5\n",
        "# add_1(5) --> 6\n",
        "\n",
        "# I5\n",
        "# i = 6\n",
        "# add_1(6) --> 7\n",
        "\n",
        "# Map --> [3,4,5,6,7]"
      ],
      "metadata": {
        "id": "RhHIUlVEojBG",
        "colab": {
          "base_uri": "https://localhost:8080/"
        },
        "outputId": "bd54888a-7e2e-4704-a7e6-1d83eed513dc"
      },
      "execution_count": null,
      "outputs": [
        {
          "output_type": "execute_result",
          "data": {
            "text/plain": [
              "[3, 4, 5, 6, 7]"
            ]
          },
          "metadata": {},
          "execution_count": 4
        }
      ]
    },
    {
      "cell_type": "code",
      "source": [
        "tuple(map(add_1,_list))"
      ],
      "metadata": {
        "colab": {
          "base_uri": "https://localhost:8080/"
        },
        "id": "OQ-HmYeNQMOE",
        "outputId": "8332ab62-5831-451e-e9da-f79fefc3383d"
      },
      "execution_count": null,
      "outputs": [
        {
          "output_type": "execute_result",
          "data": {
            "text/plain": [
              "(3, 4, 5, 6, 7)"
            ]
          },
          "metadata": {},
          "execution_count": 5
        }
      ]
    },
    {
      "cell_type": "code",
      "source": [],
      "metadata": {
        "colab": {
          "base_uri": "https://localhost:8080/"
        },
        "id": "Vi-v7_oytF7D",
        "outputId": "ffa80e19-a075-4442-9a4a-edad0d38431d"
      },
      "execution_count": null,
      "outputs": [
        {
          "output_type": "stream",
          "name": "stdout",
          "text": [
            "[35, 57, 79]\n"
          ]
        }
      ]
    },
    {
      "cell_type": "code",
      "source": [
        "# # Practice 2\n",
        "# Output as square of each element in a list\n",
        "# map will work only if you want to apply some logic to each and every element.\n",
        "\n",
        "def square(n):\n",
        "  return n**2\n",
        "\n",
        "_list = [4,2,5,6,8]\n",
        "list(map(square, _list))\n",
        "\n",
        "\n",
        "# map will iterate over each and every item in the iterable and put it in the function"
      ],
      "metadata": {
        "id": "Q7Ji_jYKp8qG",
        "colab": {
          "base_uri": "https://localhost:8080/"
        },
        "outputId": "0c4ebd50-24fc-45df-e249-145f4dcdf0e6"
      },
      "execution_count": null,
      "outputs": [
        {
          "output_type": "execute_result",
          "data": {
            "text/plain": [
              "[16, 4, 25, 36, 64]"
            ]
          },
          "metadata": {},
          "execution_count": 6
        }
      ]
    },
    {
      "cell_type": "code",
      "source": [
        "# word , Each Character Vowel or Consonant\n",
        "\n",
        "def _vowel_cons_check(s):\n",
        "  if s.lower() in 'aeiou':\n",
        "    return f'{s}:Vowel'\n",
        "  else:\n",
        "    return f'{s}:Consonant'"
      ],
      "metadata": {
        "id": "JuuVzRE0ufNe"
      },
      "execution_count": null,
      "outputs": []
    },
    {
      "cell_type": "code",
      "source": [
        "list(map(_vowel_cons_check,'AlmaBetter'))"
      ],
      "metadata": {
        "colab": {
          "base_uri": "https://localhost:8080/"
        },
        "id": "ZuKxhlQlOgPq",
        "outputId": "86de7235-98ea-42c0-f8e0-49a988f1ab1d"
      },
      "execution_count": null,
      "outputs": [
        {
          "output_type": "execute_result",
          "data": {
            "text/plain": [
              "['A:Vowel',\n",
              " 'l:Consonant',\n",
              " 'm:Consonant',\n",
              " 'a:Vowel',\n",
              " 'B:Consonant',\n",
              " 'e:Vowel',\n",
              " 't:Consonant',\n",
              " 't:Consonant',\n",
              " 'e:Vowel',\n",
              " 'r:Consonant']"
            ]
          },
          "metadata": {},
          "execution_count": 10
        }
      ]
    },
    {
      "cell_type": "code",
      "source": [
        "list(map(_vowel_cons_check,'AlmaBetter')) # Address of where the values are stored"
      ],
      "metadata": {
        "colab": {
          "base_uri": "https://localhost:8080/"
        },
        "id": "ugeJDsfXO38B",
        "outputId": "46174941-5418-477d-d8eb-b5cb397a02da"
      },
      "execution_count": null,
      "outputs": [
        {
          "output_type": "execute_result",
          "data": {
            "text/plain": [
              "['A:Vowel',\n",
              " 'l:Consonant',\n",
              " 'm:Consonant',\n",
              " 'a:Vowel',\n",
              " 'B:Consonant',\n",
              " 'e:Vowel',\n",
              " 't:Consonant',\n",
              " 't:Consonant',\n",
              " 'e:Vowel',\n",
              " 'r:Consonant']"
            ]
          },
          "metadata": {},
          "execution_count": 13
        }
      ]
    },
    {
      "cell_type": "code",
      "source": [
        "tuple(map(_vowel_cons_check,'AlmaBetter'))"
      ],
      "metadata": {
        "colab": {
          "base_uri": "https://localhost:8080/"
        },
        "id": "MonqYSKpPENa",
        "outputId": "6590a2df-8f58-4be5-f338-99455d76ac39"
      },
      "execution_count": null,
      "outputs": [
        {
          "output_type": "execute_result",
          "data": {
            "text/plain": [
              "('A:Vowel',\n",
              " 'l:Consonant',\n",
              " 'm:Consonant',\n",
              " 'a:Vowel',\n",
              " 'B:Consonant',\n",
              " 'e:Vowel',\n",
              " 't:Consonant',\n",
              " 't:Consonant',\n",
              " 'e:Vowel',\n",
              " 'r:Consonant')"
            ]
          },
          "metadata": {},
          "execution_count": 14
        }
      ]
    },
    {
      "cell_type": "code",
      "source": [
        "set(map(_vowel_cons_check,'AlmaBetter'))"
      ],
      "metadata": {
        "colab": {
          "base_uri": "https://localhost:8080/"
        },
        "id": "gzZnzu0OPG6m",
        "outputId": "846bd421-2560-475a-a818-44caf5b5ebf7"
      },
      "execution_count": null,
      "outputs": [
        {
          "output_type": "execute_result",
          "data": {
            "text/plain": [
              "{'A:Vowel',\n",
              " 'B:Consonant',\n",
              " 'a:Vowel',\n",
              " 'e:Vowel',\n",
              " 'l:Consonant',\n",
              " 'm:Consonant',\n",
              " 'r:Consonant',\n",
              " 't:Consonant'}"
            ]
          },
          "metadata": {},
          "execution_count": 15
        }
      ]
    },
    {
      "cell_type": "code",
      "source": [
        "# Iterable : list, string, tuple, dict, set"
      ],
      "metadata": {
        "id": "NXfCwfMWPWEY"
      },
      "execution_count": null,
      "outputs": []
    },
    {
      "cell_type": "code",
      "source": [
        "# # Practice 3\n",
        "# Practice: get the Gender of the person\n",
        "\n",
        "def gender(name):\n",
        "  sal = name.split('.')[0]\n",
        "  if sal == 'Mr':\n",
        "    return {name:'Male'}\n",
        "  else:\n",
        "    return {name: 'Female'}\n",
        "\n",
        "\n",
        "# gender(name = 'Mr.John')\n",
        "_ex = ['Mr.John', 'Ms.Siya','Mrs.Tara','Mr.Tonny']\n",
        "list(map(gender,_ex)) # map function is mapping each value from _ex varibale to function gender"
      ],
      "metadata": {
        "colab": {
          "base_uri": "https://localhost:8080/"
        },
        "id": "Q1eknZExOQDR",
        "outputId": "edfeb659-eba4-4242-95c3-05c26e55573b"
      },
      "execution_count": null,
      "outputs": [
        {
          "output_type": "execute_result",
          "data": {
            "text/plain": [
              "[{'Mr.John': 'Male'},\n",
              " {'Ms.Siya': 'Female'},\n",
              " {'Mrs.Tara': 'Female'},\n",
              " {'Mr.Tonny': 'Male'}]"
            ]
          },
          "metadata": {},
          "execution_count": 16
        }
      ]
    },
    {
      "cell_type": "code",
      "source": [
        "# Practice 4\n",
        "# Output as type of all elements\n",
        "ex = [[2,3],(4),(5,),'Data',6.7,{5,6},{7:8,9:10}, True]\n",
        "# output : [list, int,tup, str,float,set,dict,bool]\n",
        "list(map(type,ex))"
      ],
      "metadata": {
        "colab": {
          "base_uri": "https://localhost:8080/"
        },
        "id": "fexwLJ8j849_",
        "outputId": "93b5dbfc-7ce7-48fb-d8e0-80c66562b9dd"
      },
      "execution_count": null,
      "outputs": [
        {
          "output_type": "execute_result",
          "data": {
            "text/plain": [
              "[list, int, tuple, str, float, set, dict, bool]"
            ]
          },
          "metadata": {},
          "execution_count": 18
        }
      ]
    },
    {
      "cell_type": "code",
      "source": [
        "# Practice 5\n",
        "# Storing comma separated input as list of items.\n",
        "n = input('Enter the numbers:')\n",
        "# 3,4,5,6,7\n",
        "n = n.split(',') # ['3', '4', '5', '6', '7']\n",
        "# print(n)\n",
        "list(map(eval, n)) # '3' --> eval('3') -->3, eval('4') --> 4..."
      ],
      "metadata": {
        "colab": {
          "base_uri": "https://localhost:8080/"
        },
        "id": "6ZWRPo3Rh22q",
        "outputId": "04010cc1-2275-4ca1-b369-60cb7fecf7a4"
      },
      "execution_count": null,
      "outputs": [
        {
          "name": "stdout",
          "output_type": "stream",
          "text": [
            "Enter the numbers:3,4,5,6.7,True\n"
          ]
        },
        {
          "output_type": "execute_result",
          "data": {
            "text/plain": [
              "[3, 4, 5, 6.7, True]"
            ]
          },
          "metadata": {},
          "execution_count": 23
        }
      ]
    },
    {
      "cell_type": "code",
      "source": [
        "type(eval('True')) #"
      ],
      "metadata": {
        "colab": {
          "base_uri": "https://localhost:8080/"
        },
        "id": "IHrNJ1JDSRk6",
        "outputId": "8648a686-87c2-4dc2-f181-7ef956d15536"
      },
      "execution_count": null,
      "outputs": [
        {
          "output_type": "execute_result",
          "data": {
            "text/plain": [
              "bool"
            ]
          },
          "metadata": {},
          "execution_count": 28
        }
      ]
    },
    {
      "cell_type": "code",
      "source": [
        "_dict = {1:2, 3:4} # [(1,2),(3,4)]\n",
        "# Multiply key & value\n",
        "\n",
        "def _multiply(n):\n",
        "  return n[0]*n[1]\n",
        "\n",
        "list(map(_multiply,_dict.items())) # iterable\n",
        "\n",
        "# print(_dict.items())"
      ],
      "metadata": {
        "colab": {
          "base_uri": "https://localhost:8080/"
        },
        "id": "e4iwSNLARFU-",
        "outputId": "4544bea0-e627-4d22-c6e9-5f4d331860a9"
      },
      "execution_count": null,
      "outputs": [
        {
          "output_type": "execute_result",
          "data": {
            "text/plain": [
              "[2, 12]"
            ]
          },
          "metadata": {},
          "execution_count": 26
        }
      ]
    },
    {
      "cell_type": "code",
      "source": [
        "# Limitations :\n",
        "# 1. Functions can be an aggregation"
      ],
      "metadata": {
        "id": "yiXb2aLcRzcg"
      },
      "execution_count": null,
      "outputs": []
    },
    {
      "cell_type": "code",
      "source": [
        "_list = [4,5,6,7,8,10] # 6 elements # Sum of even numbers # Aggregation | Map\n",
        "# Output : 6 elements"
      ],
      "metadata": {
        "id": "h_WDG9l8SdS4"
      },
      "execution_count": null,
      "outputs": []
    },
    {
      "cell_type": "code",
      "source": [
        "# Filter function\n",
        "# filter()\n",
        "# filter() is a built-in function that allows you to filter elements of an iterable\n",
        "#  (such as a list, tuple, or string) based on a certain condition.\n",
        "#  The filter() function returns an iterator containing only the elements for which the condition is True\n",
        "'''filter(function, iterable)'''\n",
        "\n",
        "# Note: Function must give the output as True or False"
      ],
      "metadata": {
        "id": "biMl2Y_XoTTa"
      },
      "execution_count": null,
      "outputs": []
    },
    {
      "cell_type": "code",
      "source": [
        "# Practice 1\n",
        "# keep the employees > 5000\n",
        "\n",
        "#\n",
        "def salary_filter(n):\n",
        "  if n > 5000:\n",
        "    return True\n",
        "  else:\n",
        "    return False\n",
        "\n",
        "ex = [8000,9000,7500,1000,2000,3000]\n",
        "list(filter(salary_filter,ex)) # Output is coming as False those values are filtered out"
      ],
      "metadata": {
        "id": "fKjjbQJcowVt",
        "colab": {
          "base_uri": "https://localhost:8080/"
        },
        "outputId": "5d08e754-7f5d-43d4-f518-f24981a41e39"
      },
      "execution_count": null,
      "outputs": [
        {
          "output_type": "execute_result",
          "data": {
            "text/plain": [
              "[8000, 9000, 7500]"
            ]
          },
          "metadata": {},
          "execution_count": 29
        }
      ]
    },
    {
      "cell_type": "code",
      "source": [
        "# Filter : Input : 6 elements != output will be filtered based on some logic\n",
        "# : Logic is driven by function\n",
        "# Filter will give the output where you iterator function is giving output as True\n",
        "# Filter : Function : True Or False|Boolean"
      ],
      "metadata": {
        "id": "rqQnr52FTINO"
      },
      "execution_count": null,
      "outputs": []
    },
    {
      "cell_type": "code",
      "source": [
        "# Practice 2\n",
        "# keep words having > 5 len\n",
        "\n",
        "# ['Science', 'AlmaBetter', 'Engineering', 'Machine']\n",
        "# Filter will only keep elements where function is giving True as an output\n",
        "\n",
        "def len_word(n):\n",
        "  return len(n) > 5 # True & False\n",
        "\n",
        "\n",
        "word = ['Data', 'Science', 'AlmaBetter', 'Engineering', 'Hi', 'Machine']\n",
        "list(filter(len_word,word))\n",
        "# Filter doesn't keep the data which are getting False as an output from Function\n"
      ],
      "metadata": {
        "colab": {
          "base_uri": "https://localhost:8080/"
        },
        "id": "646E0t5twaBn",
        "outputId": "322fe5fe-ef20-4ef3-9feb-97e4ab111e50"
      },
      "execution_count": null,
      "outputs": [
        {
          "output_type": "execute_result",
          "data": {
            "text/plain": [
              "['Science', 'AlmaBetter', 'Engineering', 'Machine']"
            ]
          },
          "metadata": {},
          "execution_count": 30
        }
      ]
    },
    {
      "cell_type": "code",
      "source": [
        "# Practice 3\n",
        "# Filter numbers which are perfect squares\n",
        "# Perfect square are number where\n",
        "# Square root is integer then it's a perfect number.\n",
        "\n",
        "# [4 , 16 , 9 , 64]\n",
        "\n",
        "# Hint : int(n ** (1/2)) == n ** (1/2) then perfect Square\n",
        "# filter will keep the value in the output if function gives True\n",
        "\n",
        "def perfect_square(n):\n",
        "  if int(n ** (1/2)) == n ** (1/2):\n",
        "    return True\n",
        "  else:\n",
        "    return False\n",
        "\n",
        "ex = [2, 4, 16 , 9 , 27, 64]\n",
        "list(filter(perfect_square, ex))"
      ],
      "metadata": {
        "id": "b0WrfuQUoq3-",
        "colab": {
          "base_uri": "https://localhost:8080/"
        },
        "outputId": "a06a3853-92f1-4ad3-ecf1-a9c8ecc43ae5"
      },
      "execution_count": null,
      "outputs": [
        {
          "output_type": "execute_result",
          "data": {
            "text/plain": [
              "[4, 16, 9, 64]"
            ]
          },
          "metadata": {},
          "execution_count": 32
        }
      ]
    },
    {
      "cell_type": "code",
      "source": [
        "# print from (1000, 2000)  --> all perfect squares\n",
        "def perfect_square(n):\n",
        "  if int(n ** (1/2)) == n ** (1/2):\n",
        "    return True\n",
        "  else:\n",
        "    return False\n",
        "\n",
        "a = 1000\n",
        "b = 2000\n",
        "ex = list(range(a,b+1))\n",
        "list(filter(perfect_square, ex))"
      ],
      "metadata": {
        "colab": {
          "base_uri": "https://localhost:8080/"
        },
        "id": "w29OZ1FPUa5p",
        "outputId": "b7e822e2-b3ed-4cf2-dbeb-5d050946a39c"
      },
      "execution_count": null,
      "outputs": [
        {
          "output_type": "execute_result",
          "data": {
            "text/plain": [
              "[1024, 1089, 1156, 1225, 1296, 1369, 1444, 1521, 1600, 1681, 1764, 1849, 1936]"
            ]
          },
          "metadata": {},
          "execution_count": 33
        }
      ]
    },
    {
      "cell_type": "code",
      "source": [
        "# List of prime number from a to b\n",
        "def isprime(n):\n",
        "  prime = True\n",
        "  for i in range(2,n):\n",
        "    if n%i == 0:\n",
        "      prime = False\n",
        "      break\n",
        "  return prime\n",
        "\n",
        "a = 1000\n",
        "b = 2000\n",
        "ex = range(a,b+1)\n",
        "list(filter(isprime,ex ))"
      ],
      "metadata": {
        "id": "_y5Qjecz1a8O"
      },
      "execution_count": null,
      "outputs": []
    },
    {
      "cell_type": "code",
      "source": [
        "# map & filter\n",
        "# map(function,iterable) : map give you the output of function\n",
        "# filter(function , iterable)# function must output in boolean (True/ False),\n",
        "# it gives you the output which are coming as True"
      ],
      "metadata": {
        "id": "9MXp2UvR1uy5"
      },
      "execution_count": null,
      "outputs": []
    },
    {
      "cell_type": "code",
      "source": [
        "def len_word(n):\n",
        "  return len(n) > 5 # True & False\n",
        "\n",
        "\n",
        "word = ['Data', 'Science', 'AlmaBetter', 'Engineering', 'Hi', 'Machine']\n",
        "list(filter(len_word,word))"
      ],
      "metadata": {
        "colab": {
          "base_uri": "https://localhost:8080/"
        },
        "id": "7_VjV_oeVYfG",
        "outputId": "e223fe48-096b-491b-dcf2-8ce2654c5745"
      },
      "execution_count": null,
      "outputs": [
        {
          "output_type": "execute_result",
          "data": {
            "text/plain": [
              "['Science', 'AlmaBetter', 'Engineering', 'Machine']"
            ]
          },
          "metadata": {},
          "execution_count": 36
        }
      ]
    },
    {
      "cell_type": "code",
      "source": [
        "def len_word(n):\n",
        "  return len(n) > 5 # True & False\n",
        "\n",
        "\n",
        "word = ['Data', 'Science', 'AlmaBetter', 'Engineering', 'Hi', 'Machine']\n",
        "list(map(len_word,word))"
      ],
      "metadata": {
        "colab": {
          "base_uri": "https://localhost:8080/"
        },
        "id": "OVsNGYQwV5MR",
        "outputId": "44f1f60c-96cf-46a9-d3da-3854c38f47b4"
      },
      "execution_count": null,
      "outputs": [
        {
          "output_type": "execute_result",
          "data": {
            "text/plain": [
              "[False, True, True, True, False, True]"
            ]
          },
          "metadata": {},
          "execution_count": 37
        }
      ]
    },
    {
      "cell_type": "code",
      "source": [
        "# lambda() Function\n",
        "# lambda\n",
        "\n",
        "# A lambda function is a small, anonymous function in Python that can take any number of arguments,\n",
        "# but can only have one expression.\n",
        "# Lambda functions are often used as a shortcut for creating simple, one-liner functions.\n",
        "\n",
        "def add_1(a):\n",
        "  return a+1\n",
        "\n",
        "add_1(a =5)\n"
      ],
      "metadata": {
        "id": "OPRMhbTVoWuI",
        "colab": {
          "base_uri": "https://localhost:8080/"
        },
        "outputId": "ecdc322f-9238-4ca3-8c1c-7899b5a806df"
      },
      "execution_count": null,
      "outputs": [
        {
          "output_type": "execute_result",
          "data": {
            "text/plain": [
              "6"
            ]
          },
          "metadata": {},
          "execution_count": 38
        }
      ]
    },
    {
      "cell_type": "code",
      "source": [
        "add_1_n = lambda a: a+1"
      ],
      "metadata": {
        "id": "59zI2XBCWchS"
      },
      "execution_count": null,
      "outputs": []
    },
    {
      "cell_type": "code",
      "source": [
        "add_1_n(2)"
      ],
      "metadata": {
        "colab": {
          "base_uri": "https://localhost:8080/"
        },
        "id": "T52B74LyWmSn",
        "outputId": "eff47f2b-db9b-448c-85fc-aae3d9554117"
      },
      "execution_count": null,
      "outputs": [
        {
          "output_type": "execute_result",
          "data": {
            "text/plain": [
              "3"
            ]
          },
          "metadata": {},
          "execution_count": 42
        }
      ]
    },
    {
      "cell_type": "code",
      "source": [
        "# A lambda function that adds two numbers\n",
        "\n",
        "_add = lambda a,b : a+b\n",
        "\n",
        "_add(2,3)\n",
        "\n",
        "# Non default/ default\n",
        "_add = lambda a,b=0 : a+b\n",
        "_add(2,4)\n",
        "# Non Default will come first then default arguments\n",
        "# _add = lambda a= 0,b : a+b\n",
        "# _add(2,4)"
      ],
      "metadata": {
        "id": "lL6WHhv_ovUX",
        "colab": {
          "base_uri": "https://localhost:8080/"
        },
        "outputId": "f69a85ed-e0db-45ec-9a37-f368bda30af9"
      },
      "execution_count": null,
      "outputs": [
        {
          "output_type": "execute_result",
          "data": {
            "text/plain": [
              "6"
            ]
          },
          "metadata": {},
          "execution_count": 45
        }
      ]
    },
    {
      "cell_type": "code",
      "source": [
        "_add = lambda a,b : a+b # 1 liner\n",
        "\n",
        "_add(a = [2,3,4,5],b = ['a','b','c']) # Concatenation of the list"
      ],
      "metadata": {
        "colab": {
          "base_uri": "https://localhost:8080/"
        },
        "id": "JvnUv0REXGm0",
        "outputId": "391a9b44-ff00-4a76-bac6-a3f85a0800b3"
      },
      "execution_count": null,
      "outputs": [
        {
          "output_type": "execute_result",
          "data": {
            "text/plain": [
              "[2, 3, 4, 5, 'a', 'b', 'c']"
            ]
          },
          "metadata": {},
          "execution_count": 47
        }
      ]
    },
    {
      "cell_type": "code",
      "source": [
        "# Practice 1\n",
        "# a ^ 2 + b ^ 2\n",
        "# lambda a,b :\n",
        "_square = lambda a,b : a**2 + b**2\n",
        "_square(2,3) # 4 + 9 = 14"
      ],
      "metadata": {
        "id": "APPlKZ9XaBv4",
        "colab": {
          "base_uri": "https://localhost:8080/"
        },
        "outputId": "f489ac0d-bee7-496f-ec16-29b2b5ce3460"
      },
      "execution_count": null,
      "outputs": [
        {
          "output_type": "execute_result",
          "data": {
            "text/plain": [
              "13"
            ]
          },
          "metadata": {},
          "execution_count": 48
        }
      ]
    },
    {
      "cell_type": "code",
      "source": [
        "# reduce : Aggregation : Using package you can do it. Better to use for / while directly"
      ],
      "metadata": {
        "id": "kW27V3q3Xmlc"
      },
      "execution_count": null,
      "outputs": []
    },
    {
      "cell_type": "code",
      "source": [
        "_ex = [(2,3), (4,5), (8,10)]\n",
        "\n",
        "list(map(lambda a : a[0]**2 + a[1]**2   ,_ex )) # (2,3)\n"
      ],
      "metadata": {
        "id": "QDBQ8gNaG7SI",
        "colab": {
          "base_uri": "https://localhost:8080/"
        },
        "outputId": "fccbb349-5918-4584-ee97-4347ea1ac28d"
      },
      "execution_count": null,
      "outputs": [
        {
          "output_type": "execute_result",
          "data": {
            "text/plain": [
              "[13, 41, 164]"
            ]
          },
          "metadata": {},
          "execution_count": 49
        }
      ]
    },
    {
      "cell_type": "code",
      "source": [
        "def square(a):\n",
        "  return a[0] **2 + a[1] **2\n",
        "\n",
        "list(map(square,_ex ))"
      ],
      "metadata": {
        "colab": {
          "base_uri": "https://localhost:8080/"
        },
        "id": "LrpqrovKY7C0",
        "outputId": "c2d56f1f-6205-4d45-f8a7-6816a84cad81"
      },
      "execution_count": null,
      "outputs": [
        {
          "output_type": "execute_result",
          "data": {
            "text/plain": [
              "[13, 41, 164]"
            ]
          },
          "metadata": {},
          "execution_count": 50
        }
      ]
    },
    {
      "cell_type": "code",
      "source": [
        "# Lambda & Filter\n",
        "\n",
        "\n"
      ],
      "metadata": {
        "id": "JSXl_VmWad9c"
      },
      "execution_count": null,
      "outputs": []
    },
    {
      "cell_type": "code",
      "source": [
        "# Ternary Operator\n",
        "\n",
        "# Normal if else\n",
        "# if condition:\n",
        "#   if_result\n",
        "# else:\n",
        "#   else_result\n",
        "\n",
        "# One liner if else in python\n",
        "# if_result if condition else else_result"
      ],
      "metadata": {
        "id": "NXBWgiRfWbMA"
      },
      "execution_count": null,
      "outputs": []
    },
    {
      "cell_type": "code",
      "source": [
        "# Practice 1\n",
        "# write a code where if num is even output True else False # lambda & ternary Operator\n",
        "\n"
      ],
      "metadata": {
        "id": "kqUVSnMYozia",
        "colab": {
          "base_uri": "https://localhost:8080/"
        },
        "outputId": "1b8ec13b-45b9-4d8e-c57e-e185e3286cfe"
      },
      "execution_count": null,
      "outputs": [
        {
          "name": "stdout",
          "output_type": "stream",
          "text": [
            "10\n"
          ]
        },
        {
          "output_type": "execute_result",
          "data": {
            "text/plain": [
              "True"
            ]
          },
          "metadata": {},
          "execution_count": 58
        }
      ]
    },
    {
      "cell_type": "code",
      "source": [
        "# Practice 2\n",
        "# write a code where if character is vowel or consonant\n"
      ],
      "metadata": {
        "id": "9GHTuLIY8nFk",
        "colab": {
          "base_uri": "https://localhost:8080/",
          "height": 35
        },
        "outputId": "db86c86e-b72b-4b2a-8aac-c920b34930df"
      },
      "execution_count": null,
      "outputs": [
        {
          "output_type": "execute_result",
          "data": {
            "text/plain": [
              "'Vowel'"
            ],
            "application/vnd.google.colaboratory.intrinsic+json": {
              "type": "string"
            }
          },
          "metadata": {},
          "execution_count": 61
        }
      ]
    },
    {
      "cell_type": "code",
      "source": [
        "# word as input : remove all vowels from the name\n",
        "# Word = 'AlmaBetter' --> 'lmBttr'\n",
        "#join -> characters in list --> concat to get final string"
      ],
      "metadata": {
        "colab": {
          "base_uri": "https://localhost:8080/",
          "height": 35
        },
        "id": "e-6AvXaL622m",
        "outputId": "e0f046d7-c3df-4147-fa49-c6cad470c241"
      },
      "execution_count": null,
      "outputs": [
        {
          "output_type": "execute_result",
          "data": {
            "text/plain": [
              "'lmBttr'"
            ],
            "application/vnd.google.colaboratory.intrinsic+json": {
              "type": "string"
            }
          },
          "metadata": {},
          "execution_count": 65
        }
      ]
    },
    {
      "cell_type": "markdown",
      "source": [
        "#### Alternative to map and Filter"
      ],
      "metadata": {
        "id": "-bsc-4YWW0W5"
      }
    },
    {
      "cell_type": "code",
      "source": [
        "# List Comprehension\n",
        "# List comprehensions are a concise and powerful way to create lists in Python.\n",
        "# They allow you to create a new list by iterating over an existing iterable object, such as a list, tuple, or string,\n",
        "# and applying a condition or expression to each element.\n",
        "\n",
        "# [output for item in iterable if condition]\n",
        "\n",
        "\n"
      ],
      "metadata": {
        "id": "p6KqXCi8oat3"
      },
      "execution_count": null,
      "outputs": []
    },
    {
      "cell_type": "code",
      "source": [
        "# Practice 1\n",
        "# Celsius to Fahrenheit : (x * 9/5) + 32\n",
        "# list comprehension\n",
        "celsius_temps = [0, 10, 20, 30, 40]\n",
        "# List comprehension : method 1 : List Comprehension\n",
        "\n"
      ],
      "metadata": {
        "id": "bng6EnVdpMoI",
        "colab": {
          "base_uri": "https://localhost:8080/"
        },
        "outputId": "eb26c683-3331-4e5b-ffe9-3dab9be22b2e"
      },
      "execution_count": null,
      "outputs": [
        {
          "output_type": "execute_result",
          "data": {
            "text/plain": [
              "[32, 50, 68, 86, 104]"
            ]
          },
          "metadata": {},
          "execution_count": 30
        }
      ]
    },
    {
      "cell_type": "code",
      "source": [
        "\n",
        "\n"
      ],
      "metadata": {
        "colab": {
          "base_uri": "https://localhost:8080/"
        },
        "id": "PtRueCGlwEWR",
        "outputId": "439da068-eff2-4508-adf9-29e881287203"
      },
      "execution_count": null,
      "outputs": [
        {
          "output_type": "stream",
          "name": "stdout",
          "text": [
            "[32, 50, 68, 86, 104]\n"
          ]
        }
      ]
    },
    {
      "cell_type": "code",
      "source": [
        "# mehtod 3 : Using Map\n"
      ],
      "metadata": {
        "colab": {
          "base_uri": "https://localhost:8080/"
        },
        "id": "F9B1E_eUw3_z",
        "outputId": "29486dbf-2ecd-45e2-b113-f93b8cde07e2"
      },
      "execution_count": null,
      "outputs": [
        {
          "output_type": "execute_result",
          "data": {
            "text/plain": [
              "[32, 50, 68, 86, 104]"
            ]
          },
          "metadata": {},
          "execution_count": 32
        }
      ]
    },
    {
      "cell_type": "code",
      "source": [
        "# method 4 : Using lambda\n"
      ],
      "metadata": {
        "colab": {
          "base_uri": "https://localhost:8080/"
        },
        "id": "Fp1QXPMsxFqt",
        "outputId": "56dd22c7-a473-4a42-eb8f-5bb75977b59e"
      },
      "execution_count": null,
      "outputs": [
        {
          "output_type": "execute_result",
          "data": {
            "text/plain": [
              "[32, 50, 68, 86, 104]"
            ]
          },
          "metadata": {},
          "execution_count": 33
        }
      ]
    },
    {
      "cell_type": "code",
      "source": [
        "# Practice 2\n",
        "grades = [75, 45, 90, 30, 80, 55]\n",
        "# Filter grades greater than or equal to 60 using list comprehension\n",
        "# [output for item in iterable if condition]\n",
        "[i for i in grades if i >=60] # method 1 using list comprehension\n"
      ],
      "metadata": {
        "id": "botdRsMGQxU7",
        "colab": {
          "base_uri": "https://localhost:8080/"
        },
        "outputId": "93e54e12-a662-4584-cad5-401eb5e61547"
      },
      "execution_count": null,
      "outputs": [
        {
          "output_type": "execute_result",
          "data": {
            "text/plain": [
              "[75, 90, 80]"
            ]
          },
          "metadata": {},
          "execution_count": 34
        }
      ]
    },
    {
      "cell_type": "code",
      "source": [
        "# Method 2 :Using For loop & if- else\n"
      ],
      "metadata": {
        "id": "buFAq5-xyICn"
      },
      "execution_count": null,
      "outputs": []
    },
    {
      "cell_type": "code",
      "source": [
        "# Method 3 : Filter\n"
      ],
      "metadata": {
        "colab": {
          "base_uri": "https://localhost:8080/"
        },
        "id": "-HCzNg36yg6J",
        "outputId": "5178f101-7f8f-4292-cd9d-20e0d0269281"
      },
      "execution_count": null,
      "outputs": [
        {
          "output_type": "execute_result",
          "data": {
            "text/plain": [
              "[75, 90, 80]"
            ]
          },
          "metadata": {},
          "execution_count": 35
        }
      ]
    },
    {
      "cell_type": "code",
      "source": [
        "# Method 4 : lambda with filter\n"
      ],
      "metadata": {
        "colab": {
          "base_uri": "https://localhost:8080/"
        },
        "id": "fTsEGm9RzV37",
        "outputId": "f0f5b3f8-cf33-452b-f9d4-a726c04d9bb5"
      },
      "execution_count": null,
      "outputs": [
        {
          "output_type": "execute_result",
          "data": {
            "text/plain": [
              "[75, 90, 80]"
            ]
          },
          "metadata": {},
          "execution_count": 36
        }
      ]
    },
    {
      "cell_type": "code",
      "source": [
        "# Practice 3\n",
        "files = ['document.txt','image.png','movies.mp4', 'songs.mp3','file_txt.ipynb']\n",
        "# output all files other than .txt\n",
        "# ['image.png','movies.mp4', 'songs.mp3', 'file_txt.ipynb']\n",
        "# list comprehension\n",
        "\n",
        "# hint : .split() --> method\n",
        "# '.'.join(), _var.split('.')\n",
        "#"
      ],
      "metadata": {
        "id": "aGPQgcHEEYiP",
        "colab": {
          "base_uri": "https://localhost:8080/"
        },
        "outputId": "3f633bee-9967-478f-8506-86d39b41e03e"
      },
      "execution_count": null,
      "outputs": [
        {
          "output_type": "execute_result",
          "data": {
            "text/plain": [
              "['image.png', 'movies.mp4', 'songs.mp3', 'file_txt.ipynb']"
            ]
          },
          "metadata": {},
          "execution_count": 39
        }
      ]
    },
    {
      "cell_type": "code",
      "source": [
        "# Practice 4\n",
        "grades = [40,50, 60, 30, 80, 90, 70,95]\n",
        "# if  >=60 Pass, else Fail , output as list\n",
        "# ['fail','fail', 'pass'...]\n",
        "# if and else both\n",
        "\n"
      ],
      "metadata": {
        "id": "5OaYbg38QBoB",
        "colab": {
          "base_uri": "https://localhost:8080/"
        },
        "outputId": "92216b9c-4615-4e1c-ef7d-4509c9f6396b"
      },
      "execution_count": null,
      "outputs": [
        {
          "output_type": "execute_result",
          "data": {
            "text/plain": [
              "['Fail', 'Fail', 'Pass', 'Fail', 'Pass', 'Pass', 'Pass', 'Pass']"
            ]
          },
          "metadata": {},
          "execution_count": 47
        }
      ]
    },
    {
      "cell_type": "code",
      "source": [
        "# What changed in the above case?\n",
        "# if Condition : After for loop\n",
        "# [ final_output for i in iterable if condition]\n",
        "\n",
        "# If and else : before for loop\n",
        "# [final_if_output if condition else else_output for i in iterable ]"
      ],
      "metadata": {
        "id": "AKV5YDoi5_Ed"
      },
      "execution_count": null,
      "outputs": []
    },
    {
      "cell_type": "code",
      "source": [
        "# word = 'AlmaBetter'\n",
        "# # Question 1  : ['A','a', 'e', 'e'] # Vowels\n",
        "# # Question 2 : ['a', 'L', 'M', 'a', 'B', 'e', 'T', 'T', 'e', 'R' ]\n",
        "# # Vowels are in small and Consonants are in Capital\n"
      ],
      "metadata": {
        "id": "Su23p-WF6gZi"
      },
      "execution_count": null,
      "outputs": []
    },
    {
      "cell_type": "code",
      "source": [
        "# Question 1 :\n",
        "word = 'AlmaBetter'\n",
        "# output = ['A','a', 'e', 'e']\n"
      ],
      "metadata": {
        "colab": {
          "base_uri": "https://localhost:8080/"
        },
        "id": "cq0-0CXi8xwE",
        "outputId": "83d4dfae-74b9-416c-ba66-5c6a7ca4e015"
      },
      "execution_count": null,
      "outputs": [
        {
          "output_type": "execute_result",
          "data": {
            "text/plain": [
              "['A', 'a', 'e', 'e']"
            ]
          },
          "metadata": {},
          "execution_count": 49
        }
      ]
    },
    {
      "cell_type": "code",
      "source": [
        "# Question 2:\n",
        "word = 'AlmaBetter'\n",
        "# ['a', 'L', 'M', 'a', 'B', 'e', 'T', 'T', 'e', 'R' ]\n",
        "# # Vowels are in small and Consonants are in Capital\n",
        "\n"
      ],
      "metadata": {
        "colab": {
          "base_uri": "https://localhost:8080/"
        },
        "id": "ZD8TwA779HqF",
        "outputId": "881cc8a0-c107-4480-d874-87ebd2a46a5a"
      },
      "execution_count": null,
      "outputs": [
        {
          "output_type": "execute_result",
          "data": {
            "text/plain": [
              "['a', 'L', 'M', 'a', 'B', 'e', 'T', 'T', 'e', 'R']"
            ]
          },
          "metadata": {},
          "execution_count": 50
        }
      ]
    },
    {
      "cell_type": "code",
      "source": [
        "# Map & filter\n",
        "# list comprehension with only if condition : filter\n",
        "# [ i for i in iterable if i condition] -- Filter\n",
        "# list comprehension without if-else condition : map\n",
        "# [ i for i in iterable] -- Map\n",
        "# list comprehension with if-else condition : map\n",
        "# [i if condition else i for i in iterable] : map\n"
      ],
      "metadata": {
        "id": "ElQc6YdWHGd_"
      },
      "execution_count": null,
      "outputs": []
    },
    {
      "cell_type": "code",
      "source": [
        "# List comprehension\n",
        "# If condition : then it comes after for loop # filter\n",
        "# If and else both condition : then it comes before for loop # Map\n"
      ],
      "metadata": {
        "id": "Sv749BrVWXPn"
      },
      "execution_count": null,
      "outputs": []
    },
    {
      "cell_type": "code",
      "source": [
        "# List Comprehension : Output will be as list - [ Expression  ]\n",
        "# Set Comprehension : Output will be set - { Expression } | Unique Values"
      ],
      "metadata": {
        "id": "cHY8wTWRAmrG"
      },
      "execution_count": null,
      "outputs": []
    },
    {
      "cell_type": "code",
      "source": [
        "# Set Comprehension\n",
        "grades = [40,50, 60, 30, 80, 90, 70,95]\n",
        "# if  >=60 Pass, else Fail\n",
        "# {i for i in grades if i >=60}\n",
        "{'pass' if i>=60 else 'fail' for i in grades}"
      ],
      "metadata": {
        "id": "2v2PMl_ApWKj",
        "colab": {
          "base_uri": "https://localhost:8080/"
        },
        "outputId": "6037a909-2ffe-45ac-da11-1734a6e2b5a3"
      },
      "execution_count": null,
      "outputs": [
        {
          "output_type": "execute_result",
          "data": {
            "text/plain": [
              "{'fail', 'pass'}"
            ]
          },
          "metadata": {},
          "execution_count": 67
        }
      ]
    },
    {
      "cell_type": "code",
      "source": [
        "# If condition : then it comes after for loop # filter\n",
        "# If and else both condition : then it comes before for loop # Map\n"
      ],
      "metadata": {
        "id": "amUP00ddYNBs"
      },
      "execution_count": null,
      "outputs": []
    },
    {
      "cell_type": "code",
      "source": [],
      "metadata": {
        "id": "HosjkdjkpY2t"
      },
      "execution_count": null,
      "outputs": []
    },
    {
      "cell_type": "code",
      "source": [
        "# Dictionary Comprehension : key and value pair\n",
        "\n",
        "ex = ['Data', 'Science', 'Almabetter', 'Python']\n",
        "# {'Data':4,'Science':7 ,...}\n",
        "\n",
        "{ i:len(i) for i in ex }\n"
      ],
      "metadata": {
        "id": "ExyLgSKnpdQ_",
        "colab": {
          "base_uri": "https://localhost:8080/"
        },
        "outputId": "462e867c-bc48-46d0-cafb-8eba38ff64bc"
      },
      "execution_count": null,
      "outputs": [
        {
          "output_type": "execute_result",
          "data": {
            "text/plain": [
              "{'Data': 4, 'Science': 7, 'Almabetter': 10, 'Python': 6}"
            ]
          },
          "metadata": {},
          "execution_count": 68
        }
      ]
    },
    {
      "cell_type": "code",
      "source": [
        "_var = ['A', '@', '$', '&', '*', '😇', '😁']\n",
        "# { 65 : 'A', 64: '@'...  }\n",
        "{ i  for i in _var  } # Set\n",
        "{ ord(i):i for i in _var} # Dictionary Comprehension\n"
      ],
      "metadata": {
        "colab": {
          "base_uri": "https://localhost:8080/"
        },
        "id": "h9Z06WcQBWfo",
        "outputId": "2c40fa0d-033c-4acc-fd8e-0fb86767a2bb"
      },
      "execution_count": null,
      "outputs": [
        {
          "output_type": "execute_result",
          "data": {
            "text/plain": [
              "{65: 'A', 64: '@', 36: '$', 38: '&', 42: '*', 128519: '😇', 128513: '😁'}"
            ]
          },
          "metadata": {},
          "execution_count": 71
        }
      ]
    },
    {
      "cell_type": "markdown",
      "source": [
        "#### Practice"
      ],
      "metadata": {
        "id": "FYmWZfaKPXfZ"
      }
    },
    {
      "cell_type": "code",
      "source": [
        "# Practice 1\n",
        "'''\n",
        "Question 1: Square Even Numbers\n",
        "Write a Python function that takes an list as an input and returns the squares of only the even numbers.\n",
        "Use the filter() function to filter even numbers, and the map() function to apply squaring.\n",
        "'''\n",
        "\n",
        "_list = [2,4,5,6,7,8,9]\n",
        "# Output : [4,16,36,64]\n",
        "\n",
        "\n",
        "d"
      ],
      "metadata": {
        "id": "4TGmxfd7pgq-",
        "colab": {
          "base_uri": "https://localhost:8080/"
        },
        "outputId": "92592519-bec2-46c5-e6b6-6d80a3800421"
      },
      "execution_count": null,
      "outputs": [
        {
          "output_type": "stream",
          "name": "stdout",
          "text": [
            "[2, 4, 6, 8]\n",
            "[4, 16, 36, 64]\n"
          ]
        }
      ]
    },
    {
      "cell_type": "code",
      "source": [
        "# Practice 2\n",
        "'''\n",
        "List Comprehension to Create Pairs\n",
        "Given a list of numbers, write a Python code that uses list comprehension\n",
        "to generate a new list of tuples, where each tuple contains a odd numbers and its square.\n",
        "input = [1, 2, 3, 4]  # Output: [(1, 1), (3, 9)]\n",
        "'''\n",
        "\n",
        "_list = [1,2,3,4]\n",
        "\n",
        "\n"
      ],
      "metadata": {
        "colab": {
          "base_uri": "https://localhost:8080/"
        },
        "id": "IE8i9j6aSPtd",
        "outputId": "ef04be8d-0be8-4065-8bc7-4592cd7aea78"
      },
      "execution_count": null,
      "outputs": [
        {
          "output_type": "execute_result",
          "data": {
            "text/plain": [
              "[(1, 1), (3, 9)]"
            ]
          },
          "metadata": {},
          "execution_count": 21
        }
      ]
    },
    {
      "cell_type": "code",
      "source": [
        "# Practice 4\n",
        "word = 'Engineering'\n",
        "# {} : set of Unique Vowels\n",
        "# Set comprehension\n"
      ],
      "metadata": {
        "id": "IYbKt3IsSa8-",
        "colab": {
          "base_uri": "https://localhost:8080/",
          "height": 35
        },
        "outputId": "b8634055-3069-45c6-ac4f-54f66244a8f3"
      },
      "execution_count": null,
      "outputs": [
        {
          "output_type": "execute_result",
          "data": {
            "text/plain": [
              "'Eie'"
            ],
            "application/vnd.google.colaboratory.intrinsic+json": {
              "type": "string"
            }
          },
          "metadata": {},
          "execution_count": 30
        }
      ]
    },
    {
      "cell_type": "code",
      "source": [
        "# Practice 3\n",
        "'''\n",
        "Question: Sorting a Dictionary by Values\n",
        "Given a dictionary where the keys are strings and the values are integers,\n",
        "write a Python function that sorts the dictionary by its values in ascending order.\n",
        "Use the sorted() function with a lambda expression.\n",
        "\n",
        "Example:\n",
        "\n",
        "python\n",
        "Copy code\n",
        "my_dict = {'apple': 3, 'banana': 1, 'cherry': 2}\n",
        "\n",
        "# Your function here\n",
        "\n",
        "# Expected Output:\n",
        "# ['banana', 'cherry', 'apple']\n",
        "Hint: You can pass a lambda function as the key argument to the sorted() function to sort by dictionary values.\n",
        "'''\n"
      ],
      "metadata": {
        "id": "3OpL00jQLSHt",
        "colab": {
          "base_uri": "https://localhost:8080/"
        },
        "outputId": "f6e20bb9-e2f9-4f9e-fe7d-7b5e4b05eb15"
      },
      "execution_count": null,
      "outputs": [
        {
          "output_type": "execute_result",
          "data": {
            "text/plain": [
              "['cherry', 'apple', 'banana']"
            ]
          },
          "metadata": {},
          "execution_count": 13
        }
      ]
    }
  ]
}