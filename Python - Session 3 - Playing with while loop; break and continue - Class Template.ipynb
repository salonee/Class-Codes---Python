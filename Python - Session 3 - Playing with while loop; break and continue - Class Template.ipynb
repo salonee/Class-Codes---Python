{
 "cells": [
  {
   "cell_type": "markdown",
   "metadata": {},
   "source": [
    "### A. While Loop"
   ]
  },
  {
   "cell_type": "markdown",
   "metadata": {},
   "source": [
    "How will you make a computer do a certain task until a condition is satisfied? For example, keep prompting an user for the password unless it matches."
   ]
  },
  {
   "cell_type": "code",
   "execution_count": 1,
   "metadata": {},
   "outputs": [
    {
     "name": "stdout",
     "output_type": "stream",
     "text": [
      "Enter correct password: ashk\n",
      "Enter correct password: Secret\n",
      "Enter correct password: SECRET\n",
      "Enter correct password: sret\n",
      "Enter correct password: secret\n"
     ]
    }
   ],
   "source": [
    "#Keep prompting until one enters the correct PW\n",
    "#password is 'secret'\n",
    "\n",
    "password = ''\n",
    "while password != 'secret':\n",
    "    password = input(\"Enter correct password: \")"
   ]
  },
  {
   "cell_type": "code",
   "execution_count": 5,
   "metadata": {},
   "outputs": [
    {
     "name": "stdout",
     "output_type": "stream",
     "text": [
      "Set a password: tyty\n",
      "Enter the password: yuyu\n",
      "Enter the password: hjhj\n",
      "Enter the password: ioiio\n",
      "Enter the password: vbvb\n",
      "Enter the password: klk\n"
     ]
    }
   ],
   "source": [
    "#Give only 5 chances\n",
    "\n",
    "pw = input(\"Set a password: \")\n",
    "\n",
    "for i in range(0,5):\n",
    "    password = input(\"Enter the password: \")\n",
    "    if password == pw:\n",
    "        print(\"Logged in\")\n",
    "        break;\n"
   ]
  },
  {
   "cell_type": "markdown",
   "metadata": {},
   "source": [
    "**A Problem**"
   ]
  },
  {
   "cell_type": "markdown",
   "metadata": {},
   "source": [
    "Suppose that a player wants to play a game which requires him Rs. 1,000 to start. If the current balance in his account is less than Rs. 1,000 he needs to withdraw the extra money from his e-wallet.\n",
    "\n",
    "Note that if the sum of money in his courrent account and the amount withdrawn is greater than or equal to Rs. 1,000 then he can start playing the game. However if the sum is less than Rs. 1,000 then the program should keep displaying the user the message “You still do not have enough money to start playing.” and keep prompting the user to withdraw money unless it crosses Rs. 1,000. Once ready, i.e. if his current account balance crosses Rs. 1,000, it will display a message “Now, you are ready to play the game.” Your program should also display the account balance and the current amount in the e-wallet.\n",
    "\n",
    "(consider: initial account balance is Rs. 200 and money in the e-wallet is Rs. 5,000)\n",
    "\n",
    "(Do further improvement by checking if the e-wallet balance becomes NIL, etc.)"
   ]
  },
  {
   "cell_type": "code",
   "execution_count": null,
   "metadata": {},
   "outputs": [],
   "source": []
  },
  {
   "cell_type": "markdown",
   "metadata": {},
   "source": [
    "**Take a break**"
   ]
  },
  {
   "cell_type": "code",
   "execution_count": 1,
   "metadata": {},
   "outputs": [
    {
     "data": {
      "text/plain": [
       "True"
      ]
     },
     "execution_count": 1,
     "metadata": {},
     "output_type": "execute_result"
    }
   ],
   "source": [
    "#Plays YT videos when this is executed\n",
    "\n",
    "import webbrowser\n",
    "webbrowser.open(\"https://www.youtube.com/watch?v=2-GUGqvZ3ks&t=370s\")"
   ]
  },
  {
   "cell_type": "code",
   "execution_count": 2,
   "metadata": {},
   "outputs": [],
   "source": [
    "import time\n",
    "time.sleep(7) #Kernel stays busy (shows *) for 7 seconds"
   ]
  },
  {
   "cell_type": "code",
   "execution_count": 3,
   "metadata": {},
   "outputs": [
    {
     "name": "stdout",
     "output_type": "stream",
     "text": [
      "This is printed after 5 sec is over\n"
     ]
    }
   ],
   "source": [
    "time.sleep(5)\n",
    "print('This is printed after 5 sec is over')"
   ]
  },
  {
   "cell_type": "code",
   "execution_count": 4,
   "metadata": {},
   "outputs": [
    {
     "name": "stdout",
     "output_type": "stream",
     "text": [
      "This is printed immediately\n"
     ]
    }
   ],
   "source": [
    "print('This is printed immediately')"
   ]
  },
  {
   "cell_type": "code",
   "execution_count": 5,
   "metadata": {},
   "outputs": [
    {
     "data": {
      "text/plain": [
       "True"
      ]
     },
     "execution_count": 5,
     "metadata": {},
     "output_type": "execute_result"
    }
   ],
   "source": [
    "time.sleep(5)\n",
    "webbrowser.open(\"https://www.youtube.com/watch?v=2-GUGqvZ3ks&t=370s\")\n",
    "#opens YT after 5 sec"
   ]
  },
  {
   "cell_type": "code",
   "execution_count": 6,
   "metadata": {},
   "outputs": [
    {
     "name": "stdout",
     "output_type": "stream",
     "text": [
      "This will be printed every 3 sec for 3 times\n",
      "This will be printed every 3 sec for 3 times\n",
      "This will be printed every 3 sec for 3 times\n"
     ]
    }
   ],
   "source": [
    "for i in range(0,3):\n",
    "    time.sleep(3)\n",
    "    print(\"This will be printed every 3 sec for 3 times\")"
   ]
  },
  {
   "cell_type": "code",
   "execution_count": 13,
   "metadata": {},
   "outputs": [
    {
     "name": "stdout",
     "output_type": "stream",
     "text": [
      "Print every 3 sec\n",
      "Print every 3 sec\n",
      "Print every 3 sec\n"
     ]
    }
   ],
   "source": [
    "i = 1\n",
    "while i <= 3:\n",
    "    time.sleep(3)\n",
    "    print(\"Print every 3 sec\")\n",
    "    i += 1"
   ]
  },
  {
   "cell_type": "markdown",
   "metadata": {},
   "source": [
    "### B. Break and Continue"
   ]
  },
  {
   "cell_type": "code",
   "execution_count": null,
   "metadata": {},
   "outputs": [],
   "source": []
  },
  {
   "cell_type": "markdown",
   "metadata": {},
   "source": [
    "**Recall the password problem**"
   ]
  },
  {
   "cell_type": "markdown",
   "metadata": {},
   "source": [
    "**Make an improvement**\n",
    "\n",
    "If the user fails to enter the password in 5 chances display a message “You have lost your 5 chances” and stop the program."
   ]
  },
  {
   "cell_type": "code",
   "execution_count": 16,
   "metadata": {},
   "outputs": [
    {
     "name": "stdout",
     "output_type": "stream",
     "text": [
      "Enter the password: sef\n",
      "Enter the password: cdaf\n",
      "Enter the password: dsad\n",
      "Enter the password: gdsd\n",
      "Enter the password: gasd\n",
      "You lost all your 5 chances\n"
     ]
    }
   ],
   "source": [
    "#Approach 1\n",
    "password = ''\n",
    "counter = 0\n",
    "\n",
    "while password != 'secret':\n",
    "    password = input(\"Enter the password: \")\n",
    "    counter += 1 #counter = counter + 1\n",
    "    if counter == 5:\n",
    "        print (\"You lost all your 5 chances\")\n",
    "        break\n",
    "    \n",
    "    #while loop cnnot restrict the prog to 5 chances, hence, we use a counter\n",
    "    "
   ]
  },
  {
   "cell_type": "code",
   "execution_count": null,
   "metadata": {},
   "outputs": [],
   "source": [
    "for i in range (1,6):\n",
    "    password = input(\"Enter the password: \")\n",
    "    if password == 'secret':\n",
    "        print(\"Logged in\")\n",
    "        break"
   ]
  },
  {
   "cell_type": "code",
   "execution_count": null,
   "metadata": {},
   "outputs": [],
   "source": [
    "while 1: #1 = True\n",
    "    password = input(\"Enter password: \")\n",
    "    if password == 'secret':\n",
    "        print(\"Logged in\")\n",
    "        break"
   ]
  },
  {
   "cell_type": "code",
   "execution_count": 18,
   "metadata": {},
   "outputs": [
    {
     "name": "stdout",
     "output_type": "stream",
     "text": [
      "1\n",
      "2\n",
      "4\n",
      "5\n"
     ]
    }
   ],
   "source": [
    "#Continue...\n",
    "\n",
    "for i in range(1,6):\n",
    "    time.sleep(1)\n",
    "    if i == 3:\n",
    "        continue #this takes us to the first line in the loop\n",
    "    print(i)"
   ]
  },
  {
   "cell_type": "code",
   "execution_count": 29,
   "metadata": {},
   "outputs": [
    {
     "name": "stdout",
     "output_type": "stream",
     "text": [
      "Enter the password: hj\n",
      "The password is incorrect\n",
      "Enter the password: jk\n",
      "The password is incorrect\n",
      "Enter the password: forgot\n",
      "Hint: bla bla bla..\n",
      "Enter the password: bmb\n",
      "The password is incorrect\n",
      "Enter the password: secret\n",
      "Welcome to your profile\n"
     ]
    }
   ],
   "source": [
    "password = ''\n",
    "counter = 0\n",
    "\n",
    "while password != 'secret':\n",
    "    password = input(\"Enter the password: \")\n",
    "    \n",
    "    if password == 'forgot':\n",
    "        print(\"Hint: bla bla bla..\")\n",
    "        continue\n",
    "        \n",
    "    elif password == 'secret':\n",
    "        print('Welcome to your profile')\n",
    "        break\n",
    "    else:\n",
    "        print('The password is incorrect')\n",
    "        \n",
    "    counter = counter + 1\n",
    "    if counter == 5:\n",
    "        print (\"You lost all your 5 chances\")\n",
    "        break\n",
    "        "
   ]
  },
  {
   "cell_type": "markdown",
   "metadata": {},
   "source": [
    "**Make another additional improvement**"
   ]
  },
  {
   "cell_type": "markdown",
   "metadata": {},
   "source": [
    "If the user enters “forgot password”, display a hint and again prompt for password. (But the user will get only 5 chances to enter the password)"
   ]
  },
  {
   "cell_type": "code",
   "execution_count": null,
   "metadata": {},
   "outputs": [],
   "source": []
  },
  {
   "cell_type": "code",
   "execution_count": null,
   "metadata": {},
   "outputs": [],
   "source": []
  },
  {
   "cell_type": "markdown",
   "metadata": {},
   "source": [
    "#### Make further improvement"
   ]
  },
  {
   "cell_type": "code",
   "execution_count": 39,
   "metadata": {},
   "outputs": [],
   "source": [
    "#Codes taken from stack overflow.\n",
    "def wait(n):\n",
    "     import sys\n",
    "     import time\n",
    "     for remaining in range(n, 0, -1):\n",
    "         sys.stdout.write(\"\\r%d seconds remaining.\" %remaining)\n",
    "         time.sleep(1)"
   ]
  },
  {
   "cell_type": "code",
   "execution_count": 45,
   "metadata": {},
   "outputs": [],
   "source": []
  },
  {
   "cell_type": "code",
   "execution_count": 47,
   "metadata": {},
   "outputs": [],
   "source": []
  },
  {
   "cell_type": "code",
   "execution_count": 12,
   "metadata": {},
   "outputs": [
    {
     "name": "stdout",
     "output_type": "stream",
     "text": [
      "1 seconds remaining.."
     ]
    }
   ],
   "source": [
    "wait(15)"
   ]
  },
  {
   "cell_type": "code",
   "execution_count": null,
   "metadata": {},
   "outputs": [
    {
     "name": "stdout",
     "output_type": "stream",
     "text": [
      "Enter the password: secert\n",
      "The password is incorrect\n"
     ]
    }
   ],
   "source": [
    "password = ''\n",
    "counter = 0\n",
    "\n",
    "while password != 'secret':\n",
    "    \n",
    "    #counter = 0\n",
    "    \n",
    "    password = input(\"Enter the password: \")\n",
    "        \n",
    "    if password == 'secret':\n",
    "        print('Welcome to your profile')\n",
    "        break\n",
    "    else:\n",
    "        print('The password is incorrect')\n",
    "        \n",
    "    counter = counter + 1\n",
    "    if counter == 5:\n",
    "        print (\"You lost all your 5 chances\")\n",
    "        print(\"Wait for 10 seconds to get a chance to re-enter the password\")\n",
    "        print(\"\\n\")\n",
    "        counter = 0\n",
    "        wait(10)\n",
    "    "
   ]
  },
  {
   "cell_type": "code",
   "execution_count": null,
   "metadata": {},
   "outputs": [],
   "source": [
    "x = [1,3,4,2,6]"
   ]
  },
  {
   "cell_type": "code",
   "execution_count": null,
   "metadata": {},
   "outputs": [],
   "source": [
    "min(x)"
   ]
  },
  {
   "cell_type": "code",
   "execution_count": null,
   "metadata": {},
   "outputs": [],
   "source": [
    "max(x)"
   ]
  },
  {
   "cell_type": "code",
   "execution_count": null,
   "metadata": {},
   "outputs": [],
   "source": [
    "len(x)"
   ]
  },
  {
   "cell_type": "markdown",
   "metadata": {},
   "source": [
    "**2. Type conversion functions: int, float, str**"
   ]
  },
  {
   "cell_type": "code",
   "execution_count": 22,
   "metadata": {},
   "outputs": [
    {
     "data": {
      "text/plain": [
       "'1'"
      ]
     },
     "execution_count": 22,
     "metadata": {},
     "output_type": "execute_result"
    }
   ],
   "source": [
    "str(1)"
   ]
  },
  {
   "cell_type": "code",
   "execution_count": 21,
   "metadata": {},
   "outputs": [
    {
     "data": {
      "text/plain": [
       "1.0"
      ]
     },
     "execution_count": 21,
     "metadata": {},
     "output_type": "execute_result"
    }
   ],
   "source": [
    "float(1)"
   ]
  },
  {
   "cell_type": "markdown",
   "metadata": {},
   "source": [
    "**3. Some math functions: sum, sin, log10**"
   ]
  },
  {
   "cell_type": "code",
   "execution_count": null,
   "metadata": {},
   "outputs": [],
   "source": [
    "import math"
   ]
  },
  {
   "cell_type": "code",
   "execution_count": null,
   "metadata": {},
   "outputs": [],
   "source": [
    "math.log10(30)"
   ]
  },
  {
   "cell_type": "code",
   "execution_count": null,
   "metadata": {},
   "outputs": [],
   "source": [
    "math.tan(0.7853)"
   ]
  },
  {
   "cell_type": "markdown",
   "metadata": {},
   "source": [
    "**4. Functions to generate random numbers:**"
   ]
  },
  {
   "cell_type": "code",
   "execution_count": 25,
   "metadata": {},
   "outputs": [],
   "source": [
    "import random"
   ]
  },
  {
   "cell_type": "code",
   "execution_count": 26,
   "metadata": {},
   "outputs": [
    {
     "data": {
      "text/plain": [
       "0.9685435997207527"
      ]
     },
     "execution_count": 26,
     "metadata": {},
     "output_type": "execute_result"
    }
   ],
   "source": [
    "#random.random\n",
    "random.random()"
   ]
  },
  {
   "cell_type": "code",
   "execution_count": 27,
   "metadata": {},
   "outputs": [
    {
     "data": {
      "text/plain": [
       "5"
      ]
     },
     "execution_count": 27,
     "metadata": {},
     "output_type": "execute_result"
    }
   ],
   "source": [
    "#random.randint\n",
    "random.randint(1,10)"
   ]
  },
  {
   "cell_type": "code",
   "execution_count": 28,
   "metadata": {},
   "outputs": [
    {
     "data": {
      "text/plain": [
       "3"
      ]
     },
     "execution_count": 28,
     "metadata": {},
     "output_type": "execute_result"
    }
   ],
   "source": [
    "#random.choice\n",
    "x = [1,3,4,2,6]\n",
    "random.choice(x)"
   ]
  },
  {
   "cell_type": "markdown",
   "metadata": {},
   "source": [
    "### E. Guess the number Game"
   ]
  },
  {
   "cell_type": "markdown",
   "metadata": {},
   "source": [
    "Guess a number is a game that prompts a player to guess a number between 0 and 9, which is randomly generated by the system. When the input given by the user matches the number generated by the system then the user wins. The game should go as follows:\n",
    "\t\n",
    "\tGuess the number: 5\n",
    "\tSorry, try again\n",
    "\tGuess the number: 3\n",
    "\tSorry, try again\n",
    "\tGuess the number: 8\n",
    "\tYou got it right! Congo!\n",
    "    \n",
    "    Guess the number: 5\n",
    "\tSorry, try again\n",
    "\tGuess the number: 3\n",
    "\tSorry, try again\n",
    "\tGuess the number: exit\n",
    "\tEnjoy your day!"
   ]
  },
  {
   "cell_type": "code",
   "execution_count": null,
   "metadata": {},
   "outputs": [],
   "source": []
  },
  {
   "cell_type": "code",
   "execution_count": null,
   "metadata": {},
   "outputs": [],
   "source": []
  }
 ],
 "metadata": {
  "kernelspec": {
   "display_name": "Python 3",
   "language": "python",
   "name": "python3"
  },
  "language_info": {
   "codemirror_mode": {
    "name": "ipython",
    "version": 3
   },
   "file_extension": ".py",
   "mimetype": "text/x-python",
   "name": "python",
   "nbconvert_exporter": "python",
   "pygments_lexer": "ipython3",
   "version": "3.8.3"
  }
 },
 "nbformat": 4,
 "nbformat_minor": 2
}
